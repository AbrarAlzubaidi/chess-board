{
 "cells": [
  {
   "cell_type": "code",
   "execution_count": 63,
   "metadata": {},
   "outputs": [],
   "source": [
    "import numpy as np\n",
    "\n",
    "%matplotlib inline\n",
    "import matplotlib.pyplot as plt"
   ]
  },
  {
   "cell_type": "code",
   "execution_count": 64,
   "metadata": {},
   "outputs": [],
   "source": [
    "class ChessBoard:\n",
    "    \n",
    "    def __init__(self):\n",
    "        self.board = np.ones([8,8,3])\n",
    "        for i in np.ndindex(8,8):\n",
    "            row = i[0]\n",
    "            col = i[1]\n",
    "            # if row%2==0 and col%2==1 or row%2==1 and col%2==0:\n",
    "            if row%2 != col%2:\n",
    "                self.board[row, col] = [0,0,0]\n",
    "\n",
    "        self.row_red=0\n",
    "        self.col_red=0\n",
    "        self.row_blue=0\n",
    "        self.col_blue=0\n",
    "    \n",
    "    def add_red(self, row, col):\n",
    "        self.row_red=row-1\n",
    "        self.col_red=col-1\n",
    "        self.board[self.row_red, self.col_red] = [1,0.2,0]\n",
    "    \n",
    "    def add_blue(self, row, col):\n",
    "        self.row_blue=row-1\n",
    "        self.col_blue=col-1\n",
    "        self.board[self.row_blue, self.col_blue] = [0,1,1]\n",
    "    \n",
    "    def render(self):\n",
    "        plt.imshow(self.board)\n",
    "    \n",
    "    def is_under_attack(self):\n",
    "        if self.row_blue == self.row_red or self.col_blue == self.col_red or abs(self.row_blue - self.row_red) == abs(self.col_blue - self.col_red):\n",
    "            return True\n",
    "        else:\n",
    "            return False"
   ]
  },
  {
   "cell_type": "markdown",
   "metadata": {},
   "source": [
    "## queens on same diagonal should be “under attack”"
   ]
  },
  {
   "cell_type": "code",
   "execution_count": 65,
   "metadata": {},
   "outputs": [
    {
     "data": {
      "image/png": "[encoded data removed]",
      "text/plain": [
       "<Figure size 432x288 with 1 Axes>"
      ]
     },
     "metadata": {
      "needs_background": "light"
     },
     "output_type": "display_data"
    }
   ],
   "source": [
    "chess_board = ChessBoard()\n",
    "chess_board.add_red(2,7)\n",
    "chess_board.render()\n",
    "chess_board.add_blue(5,4)\n",
    "chess_board.render()\n",
    "assert chess_board.is_under_attack() == True\n"
   ]
  },
  {
   "cell_type": "markdown",
   "metadata": {},
   "source": [
    "## queens on same row should be “under attack”"
   ]
  },
  {
   "cell_type": "code",
   "execution_count": 66,
   "metadata": {},
   "outputs": [
    {
     "data": {
      "image/png": "[encoded data removed]",
      "text/plain": [
       "<Figure size 432x288 with 1 Axes>"
      ]
     },
     "metadata": {
      "needs_background": "light"
     },
     "output_type": "display_data"
    }
   ],
   "source": [
    "chess_board = ChessBoard()\n",
    "chess_board.add_red(2,7)\n",
    "chess_board.render()\n",
    "chess_board.add_blue(2,4)\n",
    "chess_board.render()\n",
    "assert chess_board.is_under_attack() == True"
   ]
  },
  {
   "cell_type": "markdown",
   "metadata": {},
   "source": [
    "## queens on same column should be “under attack”"
   ]
  },
  {
   "cell_type": "code",
   "execution_count": 67,
   "metadata": {},
   "outputs": [
    {
     "data": {
      "image/png": "[encoded data removed]",
      "text/plain": [
       "<Figure size 432x288 with 1 Axes>"
      ]
     },
     "metadata": {
      "needs_background": "light"
     },
     "output_type": "display_data"
    }
   ],
   "source": [
    "chess_board = ChessBoard()\n",
    "chess_board.add_red(5,7)\n",
    "chess_board.render()\n",
    "chess_board.add_blue(2,7)\n",
    "chess_board.render()\n",
    "assert chess_board.is_under_attack() == True"
   ]
  },
  {
   "cell_type": "markdown",
   "metadata": {},
   "source": [
    "## queens with any other coordinates should NOT be “under attack”"
   ]
  },
  {
   "cell_type": "code",
   "execution_count": 68,
   "metadata": {},
   "outputs": [
    {
     "data": {
      "image/png": "[encoded data removed]",
      "text/plain": [
       "<Figure size 432x288 with 1 Axes>"
      ]
     },
     "metadata": {
      "needs_background": "light"
     },
     "output_type": "display_data"
    }
   ],
   "source": [
    "chess_board = ChessBoard()\n",
    "chess_board.add_red(5,4)\n",
    "chess_board.render()\n",
    "chess_board.add_blue(0,7)\n",
    "chess_board.render()\n",
    "assert chess_board.is_under_attack() == False"
   ]
  }
 ],
 "metadata": {
  "interpreter": {
   "hash": "75c8d930c14a333de2ffbfd0e0f8068fb93375157ac391df15d04ad076beb627"
  },
  "kernelspec": {
   "display_name": "Python 3.9.5 64-bit ('.venv': poetry)",
   "language": "python",
   "name": "python3"
  },
  "language_info": {
   "codemirror_mode": {
    "name": "ipython",
    "version": 3
   },
   "file_extension": ".py",
   "mimetype": "text/x-python",
   "name": "python",
   "nbconvert_exporter": "python",
   "pygments_lexer": "ipython3",
   "version": "3.8.10"
  },
  "orig_nbformat": 4
 },
 "nbformat": 4,
 "nbformat_minor": 2
}
